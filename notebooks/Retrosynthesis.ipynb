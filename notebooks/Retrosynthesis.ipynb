{
 "cells": [
  {
   "cell_type": "markdown",
   "metadata": {},
   "source": [
    "# Data exploration"
   ]
  },
  {
   "cell_type": "code",
   "execution_count": 83,
   "metadata": {
    "scrolled": false
   },
   "outputs": [
    {
     "name": "stdout",
     "output_type": "stream",
     "text": [
      "<?xml version=\"1.0\"?>\r\n",
      "<xf>\r\n",
      "  <reactions>\r\n",
      "    <reaction index=\"1\">\r\n",
      "      <RX>\r\n",
      "        <RX.ID>9155696</RX.ID>\r\n",
      "        <RX01>\r\n",
      "          <RX.RXRN>9063602</RX.RXRN>\r\n",
      "          <RX.RCT>N-(3,5-dichlorobenzenesulfonyl)-2-(S)-proline</RX.RCT>\r\n",
      "        </RX01>\r\n",
      "        <RX01>\r\n",
      "          <RX.RXRN>9211099</RX.RXRN>\r\n",
      "          <RX.RCT>(R)-3-Amino-3-(2',6'-dimethoxy-biphenyl-4-yl)-propionic acid methyl ester</RX.RCT>\r\n",
      "        </RX01>\r\n",
      "        <RX02>\r\n",
      "          <RX.PXRN>9240163</RX.PXRN>\r\n",
      "          <RX.PRO>(R)-3-{[(S)-1-(3,5-Dichloro-benzenesulfonyl)-pyrrolidine-2-carbonyl]-amino}-3-(2',6'-dimethoxy-biphenyl-4-yl)-propionic acid methyl ester</RX.PRO>\r\n",
      "        </RX02>\r\n",
      "        <RX.BLB>9063602</RX.BLB>\r\n",
      "        <RX.BLB>9211099</RX.BLB>\r\n",
      "        <RX.BLB>9240163</RX.BLB>\r\n",
      "        <RX.BLC>9063602</RX.BLC>\r\n",
      "        <RX.BLC>9211099</RX.BLC>\r\n",
      "        <RX.BLC>9240163</RX.BLC>\r\n",
      "        <RX.NVAR>1</RX.NVAR>\r\n"
     ]
    }
   ],
   "source": [
    "!head -n 25 ../data/001.xml"
   ]
  },
  {
   "cell_type": "markdown",
   "metadata": {},
   "source": [
    "lxml is the fastest way to process xml file in Python."
   ]
  },
  {
   "cell_type": "code",
   "execution_count": null,
   "metadata": {},
   "outputs": [],
   "source": [
    "from lxml import etree as ElementTree"
   ]
  },
  {
   "cell_type": "code",
   "execution_count": 7,
   "metadata": {},
   "outputs": [],
   "source": [
    "tree = ElementTree.parse(\"../data/001.xml\")\n",
    "root = tree.getroot()"
   ]
  },
  {
   "cell_type": "code",
   "execution_count": 8,
   "metadata": {},
   "outputs": [
    {
     "data": {
      "text/plain": [
       "[<Element reactions at 0x7febd80d8748>]"
      ]
     },
     "execution_count": 8,
     "metadata": {},
     "output_type": "execute_result"
    }
   ],
   "source": [
    "root.getchildren()"
   ]
  },
  {
   "cell_type": "code",
   "execution_count": 10,
   "metadata": {},
   "outputs": [
    {
     "data": {
      "text/plain": [
       "3000"
      ]
     },
     "execution_count": 10,
     "metadata": {},
     "output_type": "execute_result"
    }
   ],
   "source": [
    "len(root.getchildren()[0].getchildren())"
   ]
  },
  {
   "cell_type": "code",
   "execution_count": 12,
   "metadata": {},
   "outputs": [
    {
     "data": {
      "text/plain": [
       "[<Element RX at 0x7febd80a5c48>,\n",
       " <Element RXD at 0x7febd80a5c88>,\n",
       " <Element RY at 0x7febd80a5cc8>]"
      ]
     },
     "execution_count": 12,
     "metadata": {},
     "output_type": "execute_result"
    }
   ],
   "source": [
    "root.getchildren()[0].getchildren()[0].getchildren()"
   ]
  },
  {
   "cell_type": "code",
   "execution_count": 13,
   "metadata": {},
   "outputs": [],
   "source": [
    "rx, rxd, ry = root.getchildren()[0].getchildren()[0].getchildren()"
   ]
  },
  {
   "cell_type": "code",
   "execution_count": 14,
   "metadata": {},
   "outputs": [
    {
     "data": {
      "text/plain": [
       "[<Element RX.ID at 0x7febd80a8188>,\n",
       " <Element RX01 at 0x7febd80a8148>,\n",
       " <Element RX01 at 0x7febd80a81c8>,\n",
       " <Element RX02 at 0x7febd80a82c8>,\n",
       " <Element RX.BLB at 0x7febd80a8308>,\n",
       " <Element RX.BLB at 0x7febd80a8348>,\n",
       " <Element RX.BLB at 0x7febd80a8388>,\n",
       " <Element RX.BLC at 0x7febd80a83c8>,\n",
       " <Element RX.BLC at 0x7febd80a8408>,\n",
       " <Element RX.BLC at 0x7febd80a8448>,\n",
       " <Element RX.NVAR at 0x7febd80a8488>,\n",
       " <Element RX03 at 0x7febd80a84c8>,\n",
       " <Element RX04 at 0x7febd80a8508>,\n",
       " <Element RX.RXNFILE at 0x7febd80a8548>,\n",
       " <Element RX.REG at 0x7febd80a8588>,\n",
       " <Element RX.RANK at 0x7febd80a85c8>,\n",
       " <Element RX.SKW at 0x7febd80a8608>,\n",
       " <Element RX.RTYP at 0x7febd80a8648>,\n",
       " <Element RX.RTYP at 0x7febd80a8688>,\n",
       " <Element RX.RAVAIL at 0x7febd80a86c8>,\n",
       " <Element RX.PAVAIL at 0x7febd80a8708>,\n",
       " <Element RX.MAXPUB at 0x7febd80a8748>,\n",
       " <Element RX.NUMREF at 0x7febd80a8788>,\n",
       " <Element RX.MAXPMW at 0x7febd80a87c8>,\n",
       " <Element RX.ED at 0x7febd80a8808>,\n",
       " <Element RX.UPD at 0x7febd80a8848>]"
      ]
     },
     "execution_count": 14,
     "metadata": {},
     "output_type": "execute_result"
    }
   ],
   "source": [
    "rx.getchildren()"
   ]
  },
  {
   "cell_type": "markdown",
   "metadata": {},
   "source": [
    "RX01, RX02 are reactants and products respectively."
   ]
  },
  {
   "cell_type": "code",
   "execution_count": 91,
   "metadata": {},
   "outputs": [
    {
     "name": "stdout",
     "output_type": "stream",
     "text": [
      "Reactant #1: N-(3,5-dichlorobenzenesulfonyl)-2-(S)-proline\n",
      "Reactant #2: (R)-3-Amino-3-(2',6'-dimethoxy-biphenyl-4-yl)-propionic acid methyl ester\n",
      "Product: (R)-3-{[(S)-1-(3,5-Dichloro-benzenesulfonyl)-pyrrolidine-2-carbonyl]-amino}-3-(2',6'-dimethoxy-biphenyl-4-yl)-propionic acid methyl ester\n"
     ]
    }
   ],
   "source": [
    "print(\"Reactant #1:\", rx[1].getchildren()[1].text)\n",
    "print(\"Reactant #2:\", rx[2].getchildren()[1].text)\n",
    "print(\"Product:\", rx[3].getchildren()[1].text)"
   ]
  },
  {
   "cell_type": "markdown",
   "metadata": {},
   "source": [
    "What are RX03 and RX04?"
   ]
  },
  {
   "cell_type": "code",
   "execution_count": 101,
   "metadata": {},
   "outputs": [
    {
     "name": "stdout",
     "output_type": "stream",
     "text": [
      "<RX03>\n",
      "          <RX.BCODE>261039242542204</RX.BCODE>\n",
      "          <RX.MCODE>325399193666863</RX.MCODE>\n",
      "          <RX.NCODE>343559256484622</RX.NCODE>\n",
      "        </RX03>\n",
      "        \n"
     ]
    }
   ],
   "source": [
    "print(ElementTree.tostring(rx[11]).decode(\"utf-8\"))"
   ]
  },
  {
   "cell_type": "code",
   "execution_count": 102,
   "metadata": {},
   "outputs": [
    {
     "name": "stdout",
     "output_type": "stream",
     "text": [
      "<RX04>\n",
      "          <RX.TRANS highlight=\"true\"><hi>0/80F51(0205)|80F42(030406)|40F61()|01E62()|01E41(0809)|01E41(070A)|01D51(0B0F)|01D45(0C0D)|01D41(0E)|01D41(10)|01CD3(111215)|01C45(16)|01C45(17)|01C42(1314)|01C41(10)|01C41()|01B62()|01B62()|01B62()|01B61(1B)|01B45(191A)|01B45(18)|01B45(18)|01A45(1C)|01A45(1D)|01A45(1E)|01A41()|01945(2122)|01945(1F23)|01945(2023)|018E1()|018E1()|01845(2426)|01845(2527)|01845()|01761(29)|01761(2A)|01745(28)|01745(28)|01645()|01641()|01641()|</hi></RX.TRANS>\n",
      "          <RX.BIN>283019</RX.BIN>\n",
      "          <RX.BFREQ>76</RX.BFREQ>\n",
      "          <RX.BRANGE>282515-283231</RX.BRANGE>\n",
      "          <RX.BNAME>NH2 + -(C=)-O- to -NH-C(=)-</RX.BNAME>\n",
      "          <RX.QRY0>0/80F51(02*)|80F42(03*)|40F61()|*</RX.QRY0>\n",
      "          <RX.QRY1>0/80F51(02*)|80F42(03*)|40F61()|01E62(*)|01E41(*)|01E41(*)|*</RX.QRY1>\n",
      "          <RX.QRY2>0/80F51(0205)|80F42(030406)|40F61()|01E62(*)|01E41(*)|01E41(*)|*</RX.QRY2>\n",
      "          <RX.QRY3>0/80F51(0205)|80F42(030406)|40F61()|01E62(*)|01E41(*)|01E41(*)|01D51(*)|01D45(*)|01D41(*)|01D41(*)|*</RX.QRY3>\n",
      "          <RX.QRY4>0/80F51(0205)|80F42(030406)|40F61()|01E62(*)|01E41(0809*)|01E41(070A*)|01D51(*)|01D45(*)|01D41(*)|01D41(*)|*</RX.QRY4>\n",
      "          <RX.QRY5>0/80F51(0205)|80F42(030406)|40F61()|01E62(*)|01E41(0809*)|01E41(070A*)|01D51(*)|01D45(*)|01D41(*)|01D41(*)|01CD3(*)|01C45(*)|01C45(*)|01C42(*)|01C41(*)|01C41(*)|*</RX.QRY5>\n",
      "        </RX04>\n",
      "        \n"
     ]
    }
   ],
   "source": [
    "print(ElementTree.tostring(rx[12]).decode(\"utf-8\"))"
   ]
  },
  {
   "cell_type": "code",
   "execution_count": null,
   "metadata": {},
   "outputs": [],
   "source": []
  },
  {
   "cell_type": "markdown",
   "metadata": {},
   "source": [
    "RXNFILE is potentially interesting. What is .rxn?"
   ]
  },
  {
   "cell_type": "code",
   "execution_count": 34,
   "metadata": {
    "scrolled": true
   },
   "outputs": [
    {
     "name": "stdout",
     "output_type": "stream",
     "text": [
      "\r\n",
      "\r\n",
      "\r\n",
      "\r\n",
      "  2  1\r\n",
      "\r\n",
      "\r\n",
      "  R>Mv4.0000000000002D 1   1.00000     0.00000     0\r\n",
      "\r\n",
      " 19 20  0  0  1  0  0  0  0  0999 V2000\r\n",
      "    3.9942    3.0811    0.0000 S   0  0  0  0  0  0  0  0  0  1  0  0\r\n",
      "    4.2532    2.1151    0.0000 N   0  0  0  0  0  0  0  0  0  2  0  0\r\n",
      "    4.9342    3.4231    0.0000 C   0  0  0  0  0  0  0  0  0  3  0  0\r\n",
      "    3.5712    3.9872    0.0000 O   0  0  0  0  0  0  0  0  0  4  0  0\r\n",
      "    3.0541    2.7391    0.0000 O   0  0  0  0  0  0  0  0  0  5  0  0\r\n",
      "    3.6232    1.3381    0.0000 C   0  0  0  0  0  0  0  0  0  6  0  0\r\n",
      "    5.1862    1.7571    0.0000 C   0  0  0  0  0  0  0  0  0  7  0  0\r\n",
      "    5.1072    4.4072    0.0000 C   0  0  0  0  0  0  0  0  0  8  0  0\r\n",
      "    5.7002    2.7801    0.0000 C   0  0  0  0  0  0  0  0  0  9  0  0\r\n",
      "    2.6251    1.3901    0.0000 C   0  0  0  0  0  0  0  0  0 10  0  0\r\n",
      "    4.1682    0.5000    0.0000 C   0  0  0  0  0  0  0  0  0 11  0  0\r\n",
      "    5.1342    0.7580    0.0000 C   0  0  0  0  0  0  0  0  0 12  0  0\r\n",
      "    6.0473    4.7492    0.0000 C   0  0  0  0  0  0  0  0  0 13  0  0\r\n",
      "    6.6393    3.1221    0.0000 C   0  0  0  0  0  0  0  0  0 14  0  0\r\n",
      "    2.0801    0.5520    0.0000 O   0  0  0  0  0  0  0  0  0  0  0  0\r\n",
      "    2.1711    2.2821    0.0000 O   0  0  0  0  0  0  0  0  0 15  0  0\r\n",
      "    6.8133    4.1072    0.0000 C   0  0  0  0  0  0  0  0  0 16  0  0\r\n",
      "    6.2213    5.7352    0.0000 Cl  0  0  0  0  0  0  0  0  0 17  0  0\r\n",
      "    7.4053    2.4801    0.0000 Cl  0  0  0  0  0  0  0  0  0 18  0  0\r\n",
      "  1  2  1  0  0  0  0\r\n",
      "  1  3  1  0  0  0  0\r\n",
      "  1  4  2  0  0  0  0\r\n",
      "  1  5  2  0  0  0  0\r\n",
      "  2  6  1  0  0  0  0\r\n",
      "  2  7  1  0  0  0  0\r\n",
      "  3  8  2  0  0  0  0\r\n",
      "  3  9  1  0  0  0  0\r\n",
      "  6 10  1  1  0  0  0\r\n",
      "  6 11  1  0  0  0  0\r\n",
      "  7 12  1  0  0  0  0\r\n",
      "  8 13  1  0  0  0  0\r\n",
      "  9 14  2  0  0  0  0\r\n",
      " 10 15  1  0  0  0  0\r\n",
      " 10 16  2  0  0  0  0\r\n",
      " 11 12  1  0  0  0  0\r\n",
      " 13 17  2  0  0  0  0\r\n",
      " 13 18  1  0  0  0  0\r\n",
      " 14 17  1  0  0  0  0\r\n",
      " 14 19  1  0  0  0  0\r\n",
      "M  STY  1   1 DAT\r\n",
      "M  SAL   1  1   6\r\n",
      "M  SDT   1 MDLBG_STEREO_KEY              F\r\n",
      "M  SDD   1     3.5232    0.8781    DA    ALL  1       5\r\n",
      "M  SED   1 S\r\n",
      "M  REG 9063602\r\n",
      "M  END\r\n",
      "\r\n",
      "\r\n",
      "  R>Mv4.0000000000002D 1   1.00000     0.00000     0\r\n",
      "\r\n",
      " 23 24  0  0  1  0  0  0  0  0999 V2000\r\n",
      "    7.5001    3.0980    0.0000 C   0  0  0  0  0  0  0  0  0 19  0  0\r\n",
      "    6.5001    3.0980    0.0000 C   0  0  0  0  0  0  0  0  0 20  0  0\r\n",
      "    8.0001    3.9641    0.0000 C   0  0  0  0  0  0  0  0  0 21  0  0\r\n",
      "    8.0001    2.2320    0.0000 C   0  0  0  0  0  0  0  0  0 22  0  0\r\n",
      "    6.0001    2.2320    0.0000 C   0  0  0  0  0  0  0  0  0 23  0  0\r\n",
      "    6.0001    3.9641    0.0000 C   0  0  0  0  0  0  0  0  0 24  0  0\r\n",
      "    9.0001    3.9641    0.0000 C   0  0  0  0  0  0  0  0  0 25  0  0\r\n",
      "    7.5001    4.8301    0.0000 O   0  0  0  0  0  0  0  0  0 26  0  0\r\n",
      "    9.0001    2.2320    0.0000 C   0  0  0  0  0  0  0  0  0 27  0  0\r\n",
      "    7.5001    1.3660    0.0000 O   0  0  0  0  0  0  0  0  0 28  0  0\r\n",
      "    5.0001    2.2320    0.0000 C   0  0  0  0  0  0  0  0  0 29  0  0\r\n",
      "    5.0001    3.9641    0.0000 C   0  0  0  0  0  0  0  0  0 30  0  0\r\n",
      "    9.5001    3.0980    0.0000 C   0  0  0  0  0  0  0  0  0 31  0  0\r\n",
      "    8.0001    5.6961    0.0000 C   0  0  0  0  0  0  0  0  0 32  0  0\r\n",
      "    8.0001    0.5000    0.0000 C   0  0  0  0  0  0  0  0  0 33  0  0\r\n",
      "    4.5001    3.0980    0.0000 C   0  0  0  0  0  0  0  0  0 34  0  0\r\n",
      "    3.5001    3.0980    0.0000 C   0  0  0  0  0  0  0  0  0 35  0  0\r\n",
      "    3.0000    3.9641    0.0000 C   0  0  0  0  0  0  0  0  0 36  0  0\r\n",
      "    3.0000    2.2320    0.0000 N   0  0  0  0  0  0  0  0  0 37  0  0\r\n",
      "    2.0000    3.9641    0.0000 C   0  0  0  0  0  0  0  0  0 38  0  0\r\n",
      "    1.5000    4.8301    0.0000 O   0  0  0  0  0  0  0  0  0 39  0  0\r\n",
      "    1.5000    3.0980    0.0000 O   0  0  0  0  0  0  0  0  0 40  0  0\r\n",
      "    0.5000    4.8301    0.0000 C   0  0  0  0  0  0  0  0  0 41  0  0\r\n",
      "  1  2  1  0  0  0  0\r\n",
      "  1  3  1  0  0  0  0\r\n",
      "  1  4  2  0  0  0  0\r\n",
      "  2  5  2  0  0  0  0\r\n",
      "  2  6  1  0  0  0  0\r\n",
      "  3  7  2  0  0  0  0\r\n",
      "  3  8  1  0  0  0  0\r\n",
      "  4  9  1  0  0  0  0\r\n",
      "  4 10  1  0  0  0  0\r\n",
      "  5 11  1  0  0  0  0\r\n",
      "  6 12  2  0  0  0  0\r\n",
      "  7 13  1  0  0  0  0\r\n",
      "  8 14  1  0  0  0  0\r\n",
      "  9 13  2  0  0  0  0\r\n",
      " 10 15  1  0  0  0  0\r\n",
      " 11 16  2  0  0  0  0\r\n",
      " 12 16  1  0  0  0  0\r\n",
      " 17 16  1  6  0  0  0\r\n",
      " 17 18  1  0  0  0  0\r\n",
      " 17 19  1  0  0  0  0\r\n",
      " 18 20  1  0  0  0  0\r\n",
      " 20 21  1  0  0  0  0\r\n",
      " 20 22  2  0  0  0  0\r\n",
      " 21 23  1  0  0  0  0\r\n",
      "M  STY  1   1 DAT\r\n",
      "M  SAL   1  1  17\r\n",
      "M  SDT   1 MDLBG_STEREO_KEY              F\r\n",
      "M  SDD   1     3.4001    2.6380    DA    ALL  1       5\r\n",
      "M  SED   1 R\r\n",
      "M  REG 9211099\r\n",
      "M  END\r\n",
      "\r\n",
      "\r\n",
      "  R>Mv4.0000000000002D 1   1.00000     0.00000     0\r\n",
      "\r\n",
      " 41 44  0  0  1  0  0  0  0  0999 V2000\r\n",
      "    4.8853    1.1871    0.0000 S   0  0  0  0  0  0  0  0  0  1  0  0\r\n",
      "    4.0042    1.6751    0.0000 N   0  0  0  0  0  0  0  0  0  2  0  0\r\n",
      "    4.4763    0.2670    0.0000 C   0  0  0  0  0  0  0  0  0  3  0  0\r\n",
      "    5.8373    0.8591    0.0000 O   0  0  0  0  0  0  0  0  0  4  0  0\r\n",
      "    5.2943    2.1071    0.0000 O   0  0  0  0  0  0  0  0  0  5  0  0\r\n",
      "    3.8822    2.6742    0.0000 C   0  0  0  0  0  0  0  0  0  6  0  0\r\n",
      "    3.0922    1.2501    0.0000 C   0  0  0  0  0  0  0  0  0  7  0  0\r\n",
      "    5.0673   -0.5460    0.0000 C   0  0  0  0  0  0  0  0  0  8  0  0\r\n",
      "    3.4742    0.1610    0.0000 C   0  0  0  0  0  0  0  0  0  9  0  0\r\n",
      "    4.6183    3.3612    0.0000 C   0  0  0  0  0  0  0  0  0 10  0  0\r\n",
      "    2.8932    2.8672    0.0000 C   0  0  0  0  0  0  0  0  0 11  0  0\r\n",
      "    2.4051    1.9861    0.0000 C   0  0  0  0  0  0  0  0  0 12  0  0\r\n",
      "    4.6583   -1.4661    0.0000 C   0  0  0  0  0  0  0  0  0 13  0  0\r\n",
      "    3.0652   -0.7570    0.0000 C   0  0  0  0  0  0  0  0  0 14  0  0\r\n",
      "    4.3913    4.3423    0.0000 N   0  0  0  0  0  0  0  0  0 37  0  0\r\n",
      "    5.5813    3.0672    0.0000 O   0  0  0  0  0  0  0  0  0 15  0  0\r\n",
      "    3.6572   -1.5711    0.0000 C   0  0  0  0  0  0  0  0  0 16  0  0\r\n",
      "    5.2503   -2.2811    0.0000 Cl  0  0  0  0  0  0  0  0  0 17  0  0\r\n",
      "    2.0631   -0.8621    0.0000 Cl  0  0  0  0  0  0  0  0  0 18  0  0\r\n",
      "    5.2363    4.8913    0.0000 C   0  0  0  0  0  0  0  0  0 35  0  0\r\n",
      "    6.1334    4.4333    0.0000 C   0  0  0  0  0  0  0  0  0 34  0  0\r\n",
      "    5.1833    5.8964    0.0000 C   0  0  0  0  0  0  0  0  0 36  0  0\r\n",
      "    6.9784    4.9823    0.0000 C   0  0  0  0  0  0  0  0  0 30  0  0\r\n",
      "    6.1864    3.4282    0.0000 C   0  0  0  0  0  0  0  0  0 29  0  0\r\n",
      "    4.2203    6.1904    0.0000 C   0  0  0  0  0  0  0  0  0 38  0  0\r\n",
      "    7.8755    4.5253    0.0000 C   0  0  0  0  0  0  0  0  0 24  0  0\r\n",
      "    7.0834    2.9712    0.0000 C   0  0  0  0  0  0  0  0  0 23  0  0\r\n",
      "    3.9932    7.1724    0.0000 O   0  0  0  0  0  0  0  0  0 39  0  0\r\n",
      "    3.7042    5.7103    0.0000 O   0  0  0  0  0  0  0  0  0 40  0  0\r\n",
      "    7.9285    3.5192    0.0000 C   0  0  0  0  0  0  0  0  0 20  0  0\r\n",
      "    4.7293    7.8585    0.0000 C   0  0  0  0  0  0  0  0  0 41  0  0\r\n",
      "    8.8245    3.0622    0.0000 C   0  0  0  0  0  0  0  0  0 19  0  0\r\n",
      "    9.6696    3.6102    0.0000 C   0  0  0  0  0  0  0  0  0 22  0  0\r\n",
      "    8.8775    2.0561    0.0000 C   0  0  0  0  0  0  0  0  0 21  0  0\r\n",
      "   10.5666    3.1542    0.0000 C   0  0  0  0  0  0  0  0  0 27  0  0\r\n",
      "    9.6176    4.6163    0.0000 O   0  0  0  0  0  0  0  0  0 28  0  0\r\n",
      "    9.7746    1.6001    0.0000 C   0  0  0  0  0  0  0  0  0 25  0  0\r\n",
      "    8.0335    1.5081    0.0000 O   0  0  0  0  0  0  0  0  0 26  0  0\r\n",
      "   10.6196    2.1481    0.0000 C   0  0  0  0  0  0  0  0  0 31  0  0\r\n",
      "   10.4616    5.1643    0.0000 C   0  0  0  0  0  0  0  0  0 33  0  0\r\n",
      "    8.0855    0.5030    0.0000 C   0  0  0  0  0  0  0  0  0 32  0  0\r\n",
      "  1  2  1  0  0  0  0\r\n",
      "  1  3  1  0  0  0  0\r\n",
      "  1  4  2  0  0  0  0\r\n",
      "  1  5  2  0  0  0  0\r\n",
      "  2  6  1  0  0  0  0\r\n",
      "  2  7  1  0  0  0  0\r\n",
      "  3  8  2  0  0  0  0\r\n",
      "  3  9  1  0  0  0  0\r\n",
      "  6 10  1  1  0  0  0\r\n",
      "  6 11  1  0  0  0  0\r\n",
      "  7 12  1  0  0  0  0\r\n",
      "  8 13  1  0  0  0  0\r\n",
      "  9 14  2  0  0  0  0\r\n",
      " 10 15  1  0  0  0  0\r\n",
      " 10 16  2  0  0  0  0\r\n",
      " 11 12  1  0  0  0  0\r\n",
      " 13 17  2  0  0  0  0\r\n",
      " 13 18  1  0  0  0  0\r\n",
      " 14 17  1  0  0  0  0\r\n",
      " 14 19  1  0  0  0  0\r\n",
      " 15 20  1  0  0  0  0\r\n",
      " 20 21  1  6  0  0  0\r\n",
      " 20 22  1  0  0  0  0\r\n",
      " 21 23  2  0  0  0  0\r\n",
      " 21 24  1  0  0  0  0\r\n",
      " 22 25  1  0  0  0  0\r\n",
      " 23 26  1  0  0  0  0\r\n",
      " 24 27  2  0  0  0  0\r\n",
      " 25 28  1  0  0  0  0\r\n",
      " 25 29  2  0  0  0  0\r\n",
      " 26 30  2  0  0  0  0\r\n",
      " 27 30  1  0  0  0  0\r\n",
      " 28 31  1  0  0  0  0\r\n",
      " 30 32  1  0  0  0  0\r\n",
      " 32 33  2  0  0  0  0\r\n",
      " 32 34  1  0  0  0  0\r\n",
      " 33 35  1  0  0  0  0\r\n",
      " 33 36  1  0  0  0  0\r\n",
      " 34 37  2  0  0  0  0\r\n",
      " 34 38  1  0  0  0  0\r\n",
      " 35 39  2  0  0  0  0\r\n",
      " 36 40  1  0  0  0  0\r\n",
      " 37 39  1  0  0  0  0\r\n",
      " 38 41  1  0  0  0  0\r\n",
      "M  STY  2   1 DAT   2 DAT\r\n",
      "M  SAL   1  1   6\r\n",
      "M  SDT   1 MDLBG_STEREO_KEY              F\r\n",
      "M  SDD   1     3.7822    2.2142    DA    ALL  1       5\r\n",
      "M  SED   1 S\r\n",
      "M  SAL   2  1  20\r\n",
      "M  SDT   2 MDLBG_STEREO_KEY              F\r\n",
      "M  SDD   2     5.1363    4.4313    DA    ALL  1       5\r\n",
      "M  SED   2 R\r\n",
      "M  REG 9240163\r\n",
      "M  END\r\n",
      "\r\n"
     ]
    }
   ],
   "source": [
    "!cat ../data/example.rxn"
   ]
  },
  {
   "cell_type": "code",
   "execution_count": 80,
   "metadata": {},
   "outputs": [
    {
     "data": {
      "text/plain": [
       "'full reaction'"
      ]
     },
     "execution_count": 80,
     "metadata": {},
     "output_type": "execute_result"
    }
   ],
   "source": [
    "[c for c in rx.getchildren() if c.tag == \"RX.RTYP\"][0].text"
   ]
  },
  {
   "cell_type": "code",
   "execution_count": 81,
   "metadata": {},
   "outputs": [
    {
     "data": {
      "text/plain": [
       "'has preparation'"
      ]
     },
     "execution_count": 81,
     "metadata": {},
     "output_type": "execute_result"
    }
   ],
   "source": [
    "[c for c in rx.getchildren() if c.tag == \"RX.RTYP\"][1].text"
   ]
  },
  {
   "cell_type": "markdown",
   "metadata": {},
   "source": [
    "We can find here information about three molecules: two of them are reactants and the last one is product. The first block of molecule decription is about atoms: symbols (S, N, C, O, ...), coordinates and auxiliary info. The second block is about chemical bonds. We are interested in the first four columns: bond_index, first_atom, second_atom, bond_order."
   ]
  },
  {
   "cell_type": "code",
   "execution_count": 35,
   "metadata": {},
   "outputs": [
    {
     "data": {
      "text/plain": [
       "[<Element RXD.L at 0x7febb1b62b88>,\n",
       " <Element RXD.CL at 0x7febb1b62c08>,\n",
       " <Element RXD.SCO at 0x7febb1b62e08>,\n",
       " <Element RXD.STP at 0x7febb1b62e48>,\n",
       " <Element RXDS01 at 0x7febb1b62e88>,\n",
       " <Element citations at 0x7febb1b62ec8>]"
      ]
     },
     "execution_count": 35,
     "metadata": {},
     "output_type": "execute_result"
    }
   ],
   "source": [
    "rxd.getchildren()"
   ]
  },
  {
   "cell_type": "code",
   "execution_count": 36,
   "metadata": {},
   "outputs": [],
   "source": [
    "l, cl, sco, stp, s01, cit = rxd.getchildren()"
   ]
  },
  {
   "cell_type": "code",
   "execution_count": 43,
   "metadata": {},
   "outputs": [
    {
     "data": {
      "text/plain": [
       "('6361329', 'Preparation', '17')"
      ]
     },
     "execution_count": 43,
     "metadata": {},
     "output_type": "execute_result"
    }
   ],
   "source": [
    "l.text, cl.text, sco.text"
   ]
  },
  {
   "cell_type": "code",
   "execution_count": 58,
   "metadata": {},
   "outputs": [
    {
     "name": "stdout",
     "output_type": "stream",
     "text": [
      "<citations>\n",
      "          <citation index=\"75\">\n",
      "            <CNR>\n",
      "              <CNR.CNR>6361329</CNR.CNR>\n",
      "              <CNR.CED>2007/10/03</CNR.CED>\n",
      "              <CNR.CUPD>2016/06/27</CNR.CUPD>\n",
      "            </CNR>\n",
      "            <CIT>\n",
      "              <CIT.DT>Article</CIT.DT>\n",
      "              <CIT.AU>Kopka, Ihor E; Lin, Linus S; Mumford, Richard A; Lanza Jr., Thomas; Magriotis, Plato A; Young, David; DeLaszlo, Stephen E; MacCoss, Malcolm; Mills, Sander G; Van Riper, Gail; McCauley, Ermengilda; Lyons, Kathryn; Vincent, Stella; Egger, Linda A; Kidambi, Usha; Stearns, Ralph; Colletti, Adria; Teffera, Yohannes; Tong, Sharon; Owens, Karen; Levorse, Dorothy; Schmidt, John A; Hagmann, William K</CIT.AU>\n",
      "              <CIT.ABPR>Y</CIT.ABPR>\n",
      "              \n",
      "              <CIT.PREPY>2002</CIT.PREPY>\n",
      "              <CIT.PUI>135733731</CIT.PUI>\n",
      "              <CIT01>\n",
      "                <CIT.JT>Bioorganic and medicinal chemistry letters</CIT.JT>\n",
      "                <CIT.JTS>Bioorganic and medicinal chemistry letters</CIT.JTS>\n",
      "                <CIT.CC>gbr</CIT.CC>\n",
      "                <CIT.LA>English</CIT.LA>\n",
      "                <CIT.VL>12</CIT.VL>\n",
      "                <CIT.NB>17</CIT.NB>\n",
      "                <CIT.PY>2002</CIT.PY>\n",
      "                <CIT.PAG>2415 - 2418</CIT.PAG>\n",
      "                <CIT.ISSN>0960-894X</CIT.ISSN>\n",
      "                <CIT.SCOPUS>18544381846</CIT.SCOPUS>\n",
      "              </CIT01>\n",
      "              <CIT.DOCQ>1</CIT.DOCQ>\n",
      "              <CIT.HASBIO>1</CIT.HASBIO>\n",
      "            </CIT>\n",
      "          </citation>\n",
      "        </citations>\n",
      "      \n"
     ]
    }
   ],
   "source": [
    "print(ElementTree.tostring(cit).decode(\"utf-8\"))"
   ]
  },
  {
   "cell_type": "code",
   "execution_count": 59,
   "metadata": {},
   "outputs": [
    {
     "data": {
      "text/plain": [
       "[<Element RXD03 at 0x7febb01e2088>,\n",
       " <Element RXD03 at 0x7febb01e2d08>,\n",
       " <Element RXD05 at 0x7febb01e2c08>,\n",
       " <Element RXD.T at 0x7febb01e2108>,\n",
       " <Element RXD.DED at 0x7febb83ddb48>]"
      ]
     },
     "execution_count": 59,
     "metadata": {},
     "output_type": "execute_result"
    }
   ],
   "source": [
    "s01.getchildren()"
   ]
  },
  {
   "cell_type": "code",
   "execution_count": 60,
   "metadata": {},
   "outputs": [],
   "source": [
    "d1, d2, d3, t, ded = s01.getchildren()"
   ]
  },
  {
   "cell_type": "code",
   "execution_count": 63,
   "metadata": {},
   "outputs": [
    {
     "data": {
      "text/plain": [
       "('\\n            ', '\\n            ', '\\n            ')"
      ]
     },
     "execution_count": 63,
     "metadata": {},
     "output_type": "execute_result"
    }
   ],
   "source": [
    "d1.text, d2.text, d3.text"
   ]
  },
  {
   "cell_type": "code",
   "execution_count": 73,
   "metadata": {},
   "outputs": [
    {
     "data": {
      "text/plain": [
       "([<Element RXD.RGTXRN at 0x7febb01e5748>, <Element RXD.RGT at 0x7febb01e8408>],\n",
       " [<Element RXD.RGTXRN at 0x7febd8045e08>, <Element RXD.RGT at 0x7febb01e8248>],\n",
       " [<Element RXD.SOLXRN at 0x7febb01e8188>, <Element RXD.SOL at 0x7febb01e8608>])"
      ]
     },
     "execution_count": 73,
     "metadata": {},
     "output_type": "execute_result"
    }
   ],
   "source": [
    "d1.getchildren(), d2.getchildren(), d3.getchildren()"
   ]
  },
  {
   "cell_type": "markdown",
   "metadata": {},
   "source": [
    "RGT stands for reagent, a compound which does not directly provides atoms to the product.  \n",
    "SOL stands for solvent, a compound which provides environment required for interaction of molecules."
   ]
  },
  {
   "cell_type": "code",
   "execution_count": 72,
   "metadata": {},
   "outputs": [
    {
     "name": "stdout",
     "output_type": "stream",
     "text": [
      "['3584612', 'benzotriazol-1-yloxyl-tris-(pyrrolidino)-phosphonium hexafluorophosphate']\n",
      "['605301', 'N-ethyl-N,N-diisopropylamine']\n",
      "['1730800', 'dichloromethane']\n"
     ]
    }
   ],
   "source": [
    "print([dd.text for dd in d1.getchildren()])\n",
    "print([dd.text for dd in d2.getchildren()])\n",
    "print([dd.text for dd in d3.getchildren()])"
   ]
  },
  {
   "cell_type": "code",
   "execution_count": 77,
   "metadata": {},
   "outputs": [
    {
     "data": {
      "text/plain": [
       "('0 - 20', '2007/12/13')"
      ]
     },
     "execution_count": 77,
     "metadata": {},
     "output_type": "execute_result"
    }
   ],
   "source": [
    "t.text, ded.text"
   ]
  }
 ],
 "metadata": {
  "anaconda-cloud": {},
  "kernelspec": {
   "display_name": "Python [conda env:anaconda3]",
   "language": "python",
   "name": "conda-env-anaconda3-py"
  },
  "language_info": {
   "codemirror_mode": {
    "name": "ipython",
    "version": 3
   },
   "file_extension": ".py",
   "mimetype": "text/x-python",
   "name": "python",
   "nbconvert_exporter": "python",
   "pygments_lexer": "ipython3",
   "version": "3.5.4"
  }
 },
 "nbformat": 4,
 "nbformat_minor": 2
}
