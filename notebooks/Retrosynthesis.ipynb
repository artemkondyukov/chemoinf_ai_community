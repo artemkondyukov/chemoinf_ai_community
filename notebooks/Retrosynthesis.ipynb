{
 "cells": [
  {
   "cell_type": "markdown",
   "metadata": {},
   "source": [
    "# Data exploration"
   ]
  },
  {
   "cell_type": "markdown",
   "metadata": {},
   "source": [
    "Suppose you've got an XML-file and want to build something useful. Take a look at it."
   ]
  },
  {
   "cell_type": "code",
   "execution_count": 1,
   "metadata": {
    "scrolled": false
   },
   "outputs": [
    {
     "name": "stdout",
     "output_type": "stream",
     "text": [
      "<?xml version=\"1.0\"?>\r\n",
      "<xf>\r\n",
      "  <reactions>\r\n",
      "    <reaction index=\"26\">\r\n",
      "      <RX>\r\n",
      "        <RX.ID>9185275</RX.ID>\r\n",
      "        <RX01>\r\n",
      "          <RX.RXRN>1706223</RX.RXRN>\r\n",
      "          <RX.RCT>L-leucine tert-butyl ester</RX.RCT>\r\n",
      "        </RX01>\r\n",
      "        <RX01>\r\n",
      "          <RX.RXRN>9297179</RX.RXRN>\r\n",
      "          <RX.RCT>(S)-2-[[[(1,3-dioxo-1,3-dihydro-2H-isoindol-2-yl)methyl]diphenylsilanyl]methyl]-4-methylpentanoic acid</RX.RCT>\r\n",
      "        </RX01>\r\n",
      "        <RX02>\r\n",
      "          <RX.PXRN>9307186</RX.PXRN>\r\n",
      "          <RX.PRO>(S)-2-[(S)-2-[[[(1,3-dioxo-1,3-dihydro-2H-isoindol-2-yl)methyl]diphenylsilanyl]methyl]-4-methylpentanoylamino]-4-methylpentanoic acid tert-butyl ester</RX.PRO>\r\n",
      "        </RX02>\r\n",
      "        <RX.BLB>1706223</RX.BLB>\r\n",
      "        <RX.BLB>9297179</RX.BLB>\r\n",
      "        <RX.BLB>9307186</RX.BLB>\r\n",
      "        <RX.BLC>1706223</RX.BLC>\r\n",
      "        <RX.BLC>9297179</RX.BLC>\r\n",
      "        <RX.BLC>9307186</RX.BLC>\r\n",
      "        <RX.NVAR>1</RX.NVAR>\r\n"
     ]
    }
   ],
   "source": [
    "!head -n 25 ../data/001.xml"
   ]
  },
  {
   "cell_type": "markdown",
   "metadata": {},
   "source": [
    "lxml is the fastest way to process xml file in Python."
   ]
  },
  {
   "cell_type": "code",
   "execution_count": 2,
   "metadata": {},
   "outputs": [],
   "source": [
    "from lxml import etree as ElementTree"
   ]
  },
  {
   "cell_type": "code",
   "execution_count": 3,
   "metadata": {},
   "outputs": [],
   "source": [
    "tree = ElementTree.parse(\"../data/001.xml\")\n",
    "root = tree.getroot()"
   ]
  },
  {
   "cell_type": "code",
   "execution_count": 4,
   "metadata": {
    "scrolled": true
   },
   "outputs": [
    {
     "data": {
      "text/plain": [
       "[<Element reactions at 0x7f13184780c8>]"
      ]
     },
     "execution_count": 4,
     "metadata": {},
     "output_type": "execute_result"
    }
   ],
   "source": [
    "root.getchildren()"
   ]
  },
  {
   "cell_type": "code",
   "execution_count": 5,
   "metadata": {},
   "outputs": [
    {
     "data": {
      "text/plain": [
       "2975"
      ]
     },
     "execution_count": 5,
     "metadata": {},
     "output_type": "execute_result"
    }
   ],
   "source": [
    "len(root.getchildren()[0].getchildren())"
   ]
  },
  {
   "cell_type": "code",
   "execution_count": 6,
   "metadata": {},
   "outputs": [
    {
     "data": {
      "text/plain": [
       "[<Element RX at 0x7f13087a6688>,\n",
       " <Element RXD at 0x7f13087a6648>,\n",
       " <Element RY at 0x7f13087a6608>]"
      ]
     },
     "execution_count": 6,
     "metadata": {},
     "output_type": "execute_result"
    }
   ],
   "source": [
    "root.getchildren()[0].getchildren()[0].getchildren()"
   ]
  },
  {
   "cell_type": "markdown",
   "metadata": {},
   "source": [
    "# RX"
   ]
  },
  {
   "cell_type": "code",
   "execution_count": 7,
   "metadata": {},
   "outputs": [],
   "source": [
    "rx, rxd, ry = root.getchildren()[0].getchildren()[0].getchildren()"
   ]
  },
  {
   "cell_type": "code",
   "execution_count": 8,
   "metadata": {},
   "outputs": [
    {
     "data": {
      "text/plain": [
       "[<Element RX.ID at 0x7f1318478cc8>,\n",
       " <Element RX01 at 0x7f13087a6ac8>,\n",
       " <Element RX01 at 0x7f13087a6a88>,\n",
       " <Element RX02 at 0x7f13087a6a48>,\n",
       " <Element RX.BLB at 0x7f13087a6bc8>,\n",
       " <Element RX.BLB at 0x7f13087a6c08>,\n",
       " <Element RX.BLB at 0x7f13087a6c48>,\n",
       " <Element RX.BLC at 0x7f13087a6c88>,\n",
       " <Element RX.BLC at 0x7f13087a6cc8>,\n",
       " <Element RX.BLC at 0x7f13087a6d08>,\n",
       " <Element RX.NVAR at 0x7f13087a6d48>,\n",
       " <Element RX03 at 0x7f13087a6d88>,\n",
       " <Element RX04 at 0x7f13087a6dc8>,\n",
       " <Element RX.RXNFILE at 0x7f13087a6e08>,\n",
       " <Element RX.REG at 0x7f13087a6e48>,\n",
       " <Element RX.RANK at 0x7f13087a6e88>,\n",
       " <Element RX.MYD at 0x7f13087a6ec8>,\n",
       " <Element RX.SKW at 0x7f13087a6f08>,\n",
       " <Element RX.RTYP at 0x7f13087a6f48>,\n",
       " <Element RX.RTYP at 0x7f13087a6f88>,\n",
       " <Element RX.RAVAIL at 0x7f13087a6fc8>,\n",
       " <Element RX.PAVAIL at 0x7f13087a7048>,\n",
       " <Element RX.MAXPUB at 0x7f13087a7088>,\n",
       " <Element RX.NUMREF at 0x7f13087a70c8>,\n",
       " <Element RX.MAXPMW at 0x7f13087a7108>,\n",
       " <Element RX.ED at 0x7f13087a7148>,\n",
       " <Element RX.UPD at 0x7f13087a7188>]"
      ]
     },
     "execution_count": 8,
     "metadata": {},
     "output_type": "execute_result"
    }
   ],
   "source": [
    "rx.getchildren()"
   ]
  },
  {
   "cell_type": "markdown",
   "metadata": {},
   "source": [
    "RX01, RX02 are reactants and products respectively."
   ]
  },
  {
   "cell_type": "code",
   "execution_count": 9,
   "metadata": {},
   "outputs": [
    {
     "name": "stdout",
     "output_type": "stream",
     "text": [
      "Reactant #1: L-leucine tert-butyl ester\n",
      "Reactant #2: (S)-2-[[[(1,3-dioxo-1,3-dihydro-2H-isoindol-2-yl)methyl]diphenylsilanyl]methyl]-4-methylpentanoic acid\n",
      "Product: (S)-2-[(S)-2-[[[(1,3-dioxo-1,3-dihydro-2H-isoindol-2-yl)methyl]diphenylsilanyl]methyl]-4-methylpentanoylamino]-4-methylpentanoic acid tert-butyl ester\n"
     ]
    }
   ],
   "source": [
    "print(\"Reactant #1:\", rx[1].getchildren()[1].text)\n",
    "print(\"Reactant #2:\", rx[2].getchildren()[1].text)\n",
    "print(\"Product:\", rx[3].getchildren()[1].text)"
   ]
  },
  {
   "cell_type": "markdown",
   "metadata": {},
   "source": [
    "What are RX03 and RX04?"
   ]
  },
  {
   "cell_type": "code",
   "execution_count": 10,
   "metadata": {},
   "outputs": [
    {
     "name": "stdout",
     "output_type": "stream",
     "text": [
      "<RX03>\n",
      "          <RX.BCODE>261039242542204</RX.BCODE>\n",
      "          <RX.MCODE>325399193666863</RX.MCODE>\n",
      "          <RX.NCODE>334727620812468</RX.NCODE>\n",
      "        </RX03>\n",
      "        \n"
     ]
    }
   ],
   "source": [
    "print(ElementTree.tostring(rx[11]).decode(\"utf-8\"))"
   ]
  },
  {
   "cell_type": "code",
   "execution_count": 11,
   "metadata": {},
   "outputs": [
    {
     "name": "stdout",
     "output_type": "stream",
     "text": [
      "<RX04>\n",
      "          <RX.TRANS highlight=\"true\"><hi>0/80F51(0205)|80F42(030406)|40F61()|01E62()|01E41(0708)|01E41(090A)|01D42(0C0D)|01D41(0E)|01D41(0B)|01D41(0F)|01CB1(101113)|01C62()|01C61(12)|01C41(1415)|01C41(1617)|01B45(191A)|01B45(1B1C)|01B41(1D1E1F)|01B41(18)|01B41()|01B41()|01B41()|01B41()|01A51(2425)|01A45(20)|01A45(21)|01A45(22)|01A45(23)|01A41()|01A41()|01A41()|01945(2A)|01945(2A)|01945(2B)|01945(2B)|01942(2628)|01942(2729)|01862()|01862()|01845(292C)|01845(2D)|01845()|01845()|01745(2E)|01745(2F)|01645(2F)|01645()|</hi></RX.TRANS>\n",
      "          <RX.BIN>283141</RX.BIN>\n",
      "          <RX.BFREQ>469</RX.BFREQ>\n",
      "          <RX.BRANGE>282515-283231</RX.BRANGE>\n",
      "          <RX.BNAME>NH2 + -(C=)-O- to -NH-C(=)-</RX.BNAME>\n",
      "          <RX.QRY0>0/80F51(02*)|80F42(03*)|40F61()|*</RX.QRY0>\n",
      "          <RX.QRY1>0/80F51(02*)|80F42(03*)|40F61()|01E62(*)|01E41(*)|01E41(*)|*</RX.QRY1>\n",
      "          <RX.QRY2>0/80F51(0205)|80F42(030406)|40F61()|01E62(*)|01E41(*)|01E41(*)|*</RX.QRY2>\n",
      "          <RX.QRY3>0/80F51(0205)|80F42(030406)|40F61()|01E62(*)|01E41(*)|01E41(*)|01D42(*)|01D41(*)|01D41(*)|01D41(*)|*</RX.QRY3>\n",
      "          <RX.QRY4>0/80F51(0205)|80F42(030406)|40F61()|01E62(*)|01E41(0708*)|01E41(090A*)|01D42(*)|01D41(*)|01D41(*)|01D41(*)|*</RX.QRY4>\n",
      "          <RX.QRY5>0/80F51(0205)|80F42(030406)|40F61()|01E62(*)|01E41(0708*)|01E41(090A*)|01D42(*)|01D41(*)|01D41(*)|01D41(*)|01CB1(*)|01C62(*)|01C61(*)|01C41(*)|01C41(*)|*</RX.QRY5>\n",
      "        </RX04>\n",
      "        \n"
     ]
    }
   ],
   "source": [
    "print(ElementTree.tostring(rx[12]).decode(\"utf-8\"))"
   ]
  },
  {
   "cell_type": "markdown",
   "metadata": {},
   "source": [
    "🤔"
   ]
  },
  {
   "cell_type": "markdown",
   "metadata": {},
   "source": [
    "RTYP stands for 'reaction type', what's that?"
   ]
  },
  {
   "cell_type": "code",
   "execution_count": 12,
   "metadata": {},
   "outputs": [
    {
     "data": {
      "text/plain": [
       "'full reaction'"
      ]
     },
     "execution_count": 12,
     "metadata": {},
     "output_type": "execute_result"
    }
   ],
   "source": [
    "[c for c in rx.getchildren() if c.tag == \"RX.RTYP\"][0].text"
   ]
  },
  {
   "cell_type": "code",
   "execution_count": 13,
   "metadata": {},
   "outputs": [
    {
     "data": {
      "text/plain": [
       "'has preparation'"
      ]
     },
     "execution_count": 13,
     "metadata": {},
     "output_type": "execute_result"
    }
   ],
   "source": [
    "[c for c in rx.getchildren() if c.tag == \"RX.RTYP\"][1].text"
   ]
  },
  {
   "cell_type": "markdown",
   "metadata": {},
   "source": [
    "🤔🤔🤔"
   ]
  },
  {
   "cell_type": "markdown",
   "metadata": {},
   "source": [
    "# RXD"
   ]
  },
  {
   "cell_type": "code",
   "execution_count": 14,
   "metadata": {},
   "outputs": [
    {
     "data": {
      "text/plain": [
       "[<Element RXD.L at 0x7f13087a68c8>,\n",
       " <Element RXD.CL at 0x7f13087a7d08>,\n",
       " <Element RXD.SCO at 0x7f13087a7cc8>,\n",
       " <Element RXD.STP at 0x7f13087a7c88>,\n",
       " <Element RXD01 at 0x7f13087a7e88>,\n",
       " <Element RXDS01 at 0x7f13087a7ec8>,\n",
       " <Element citations at 0x7f13087a7f08>]"
      ]
     },
     "execution_count": 14,
     "metadata": {},
     "output_type": "execute_result"
    }
   ],
   "source": [
    "rxd.getchildren()"
   ]
  },
  {
   "cell_type": "code",
   "execution_count": 16,
   "metadata": {},
   "outputs": [],
   "source": [
    "l, cl, sco, stp, rxd01, rxds01, cit = rxd.getchildren()"
   ]
  },
  {
   "cell_type": "code",
   "execution_count": 17,
   "metadata": {},
   "outputs": [
    {
     "data": {
      "text/plain": [
       "('6375709', 'Preparation', '17')"
      ]
     },
     "execution_count": 17,
     "metadata": {},
     "output_type": "execute_result"
    }
   ],
   "source": [
    "l.text, cl.text, sco.text"
   ]
  },
  {
   "cell_type": "code",
   "execution_count": 18,
   "metadata": {},
   "outputs": [
    {
     "name": "stdout",
     "output_type": "stream",
     "text": [
      "<citations>\n",
      "          <citation index=\"93\">\n",
      "            <CNR>\n",
      "              <CNR.CNR>6375709</CNR.CNR>\n",
      "              <CNR.CED>2007/10/03</CNR.CED>\n",
      "              <CNR.CUPD>2018/08/19</CNR.CUPD>\n",
      "            </CNR>\n",
      "            <CIT>\n",
      "              <CIT.DT>Article</CIT.DT>\n",
      "              <CIT.AU>Kim, Jaeseung; Glekas, Athanasios; Sieburth, Scott McN</CIT.AU>\n",
      "              <CIT.ABPR>Y</CIT.ABPR>\n",
      "              \n",
      "              <CIT.PREPY>2002</CIT.PREPY>\n",
      "              <CIT.PUI>35346502</CIT.PUI>\n",
      "              <CIT01>\n",
      "                <CIT.CO>BMCLE</CIT.CO>\n",
      "                <CIT.JT>Bioorganic and Medicinal Chemistry Letters</CIT.JT>\n",
      "                <CIT.JTS>Bioorg. Med. Chem. Lett.</CIT.JTS>\n",
      "                <CIT.CC>gbr</CIT.CC>\n",
      "                <CIT.LA>English</CIT.LA>\n",
      "                <CIT.PUB>Elsevier Ltd</CIT.PUB>\n",
      "                <CIT.VL>12</CIT.VL>\n",
      "                <CIT.NB>24</CIT.NB>\n",
      "                <CIT.PY>2002</CIT.PY>\n",
      "                <CIT.PAG>3625 - 3627</CIT.PAG>\n",
      "                <CIT.DOI>10.1016/S0960-894X(02)00804-1</CIT.DOI>\n",
      "                <CIT.ISSN>0960-894X</CIT.ISSN>\n",
      "                <CIT.SCOPUS>36889998</CIT.SCOPUS>\n",
      "                <CIT.CITBY>43</CIT.CITBY>\n",
      "              </CIT01>\n",
      "              <CIT.DOCQ>1</CIT.DOCQ>\n",
      "            </CIT>\n",
      "          </citation>\n",
      "        </citations>\n",
      "      \n"
     ]
    }
   ],
   "source": [
    "print(ElementTree.tostring(cit).decode(\"utf-8\"))"
   ]
  },
  {
   "cell_type": "code",
   "execution_count": 22,
   "metadata": {},
   "outputs": [
    {
     "name": "stdout",
     "output_type": "stream",
     "text": [
      "<RXD01>\n",
      "          <RXD.YXRN>9307186</RXD.YXRN>\n",
      "          <RXD.YPRO>(S)-2-[(S)-2-[[[(1,3-dioxo-1,3-dihydro-2H-isoindol-2-yl)methyl]diphenylsilanyl]methyl]-4-methylpentanoylamino]-4-methylpentanoic acid tert-butyl ester</RXD.YPRO>\n",
      "          <RXD.YD>89 percent</RXD.YD>\n",
      "          <RXD.NYD>89</RXD.NYD>\n",
      "        </RXD01>\n",
      "\n",
      "        \n"
     ]
    }
   ],
   "source": [
    "print(ElementTree.tostring(rxd01).decode(\"utf-8\"))"
   ]
  },
  {
   "cell_type": "markdown",
   "metadata": {},
   "source": [
    "Note RXD.NYD field. It is experimental yield. What is yield?  \n",
    "Suppose we have a photosynthesis reaction:"
   ]
  },
  {
   "cell_type": "markdown",
   "metadata": {},
   "source": [
    "$$\n",
    "6CO_2 + 6H_2O \\to C_6H_{12}O_6 + 6O_2\n",
    "$$"
   ]
  },
  {
   "cell_type": "markdown",
   "metadata": {},
   "source": [
    "If we take 600 molecules of carbon dioxide and 600 molecules of water, we should get 100 molecule of glucose and 600 molecules of oxygen.  \n",
    "That's not the case in real conditions: only part of reactants undergo a chemical transformation.  \n",
    "Thus, probably only 480 molecules of $CO_2$ will react resulting in 80 molecules of glucose. Part of expected amount, 80% is yield of the reaction."
   ]
  },
  {
   "cell_type": "code",
   "execution_count": 25,
   "metadata": {},
   "outputs": [
    {
     "data": {
      "text/plain": [
       "[<Element RXD03 at 0x7f130877fe08>, <Element RXD.DED at 0x7f13087a11c8>]"
      ]
     },
     "execution_count": 25,
     "metadata": {},
     "output_type": "execute_result"
    }
   ],
   "source": [
    "rxds01.getchildren()"
   ]
  },
  {
   "cell_type": "code",
   "execution_count": 27,
   "metadata": {},
   "outputs": [],
   "source": [
    "d3, ded = rxds01.getchildren()"
   ]
  },
  {
   "cell_type": "code",
   "execution_count": 28,
   "metadata": {},
   "outputs": [
    {
     "data": {
      "text/plain": [
       "'\\n            '"
      ]
     },
     "execution_count": 28,
     "metadata": {},
     "output_type": "execute_result"
    }
   ],
   "source": [
    "d3.text"
   ]
  },
  {
   "cell_type": "code",
   "execution_count": 29,
   "metadata": {},
   "outputs": [
    {
     "data": {
      "text/plain": [
       "[<Element RXD.RGTXRN at 0x7f130879d088>, <Element RXD.RGT at 0x7f13087a1e08>]"
      ]
     },
     "execution_count": 29,
     "metadata": {},
     "output_type": "execute_result"
    }
   ],
   "source": [
    "d3.getchildren()"
   ]
  },
  {
   "cell_type": "markdown",
   "metadata": {},
   "source": [
    "RGT stands for reagent, a compound which does not directly provides atoms to the product.  \n",
    "SOL stands for solvent, a compound which provides environment required for interaction of molecules."
   ]
  },
  {
   "cell_type": "code",
   "execution_count": 30,
   "metadata": {},
   "outputs": [
    {
     "name": "stdout",
     "output_type": "stream",
     "text": [
      "['507429', 'N-(3-dimethylaminopropyl)-N-ethylcarbodiimide']\n"
     ]
    }
   ],
   "source": [
    "# print([dd.text for dd in d1.getchildren()])\n",
    "# print([dd.text for dd in d2.getchildren()])\n",
    "print([dd.text for dd in d3.getchildren()])"
   ]
  },
  {
   "cell_type": "markdown",
   "metadata": {},
   "source": [
    "# RY"
   ]
  },
  {
   "cell_type": "code",
   "execution_count": 32,
   "metadata": {},
   "outputs": [
    {
     "data": {
      "text/plain": [
       "[<Element RY.RCT at 0x7f1308723d88>,\n",
       " <Element RY.RCT at 0x7f1308723dc8>,\n",
       " <Element RY.PRO at 0x7f1308723e08>]"
      ]
     },
     "execution_count": 32,
     "metadata": {},
     "output_type": "execute_result"
    }
   ],
   "source": [
    "ry.getchildren()"
   ]
  },
  {
   "cell_type": "markdown",
   "metadata": {},
   "source": [
    "Two reactants and a product."
   ]
  },
  {
   "cell_type": "code",
   "execution_count": 33,
   "metadata": {},
   "outputs": [],
   "source": [
    "rct_1, rct_2, prd = ry.getchildren()"
   ]
  },
  {
   "cell_type": "code",
   "execution_count": 34,
   "metadata": {},
   "outputs": [
    {
     "name": "stdout",
     "output_type": "stream",
     "text": [
      "\n",
      "\n",
      "\n",
      "  0  0  0     0  0            999 V3000\n",
      "M  V30 BEGIN CTAB\n",
      "M  V30 COUNTS 14 13 0 0 1 REGNO=1706223\n",
      "M  V30 BEGIN ATOM\n",
      "M  V30 1 C -19.8374 0.8098 0 0\n",
      "M  V30 2 O -21.0393 -0.1119 0 0\n",
      "M  V30 3 C -18.6362 -0.1119 0 0\n",
      "M  V30 4 C -18.8133 1.9261 0 0\n",
      "M  V30 5 C -20.8609 1.9261 0 0\n",
      "M  V30 6 C -22.4389 0.4679 0 0\n",
      "M  V30 7 C -23.6395 -0.4545 0 0 CFG=2\n",
      "M  V30 8 O -22.6353 1.9685 0 0\n",
      "M  V30 9 C -24.842 0.4679 0 0\n",
      "M  V30 10 N -24.6628 -1.5708 0 0\n",
      "M  V30 11 C -26.2396 -0.1119 0 0\n",
      "M  V30 12 C -27.4402 0.8098 0 0\n",
      "M  V30 13 C -26.438 -1.6125 0 0\n",
      "M  V30 14 H -22.616 -1.5708 0 0\n",
      "M  V30 END ATOM\n",
      "M  V30 BEGIN BOND\n",
      "M  V30 1 1 1 2\n",
      "M  V30 2 1 1 3\n",
      "M  V30 3 1 1 4\n",
      "M  V30 4 1 1 5\n",
      "M  V30 5 1 2 6\n",
      "M  V30 6 1 6 7\n",
      "M  V30 7 2 6 8\n",
      "M  V30 8 1 7 9\n",
      "M  V30 9 1 7 10\n",
      "M  V30 10 1 7 14 CFG=3\n",
      "M  V30 11 1 9 11\n",
      "M  V30 12 1 11 12\n",
      "M  V30 13 1 11 13\n",
      "M  V30 END BOND\n",
      "M  V30 END CTAB\n",
      "M  END\n",
      "\n"
     ]
    }
   ],
   "source": [
    "print(rct_1.text)"
   ]
  },
  {
   "cell_type": "markdown",
   "metadata": {},
   "source": [
    "It is MOL format. It has the following information:  \n",
    "- atom types (sulfur, nitrogen, carbon, ...)\n",
    "- atom coordinates\n",
    "- chemical bonds: begin/end atoms and single/double/triple order"
   ]
  },
  {
   "cell_type": "markdown",
   "metadata": {},
   "source": [
    "# Finally\n",
    "<ul> <span style=\"font-size:larger;\">We have the following information: </span>\n",
    "<li> structures of reactants, their names\n",
    "<li> structure of product, its name \n",
    "<li> solvent used\n",
    "<li> reagents used \n",
    "<li> reaction type, which provides no useful information.\n",
    "</ul>"
   ]
  },
  {
   "cell_type": "code",
   "execution_count": null,
   "metadata": {},
   "outputs": [],
   "source": []
  },
  {
   "cell_type": "markdown",
   "metadata": {},
   "source": [
    "RXNFILE is potentially interesting, because it describes reactions.  \n",
    "Let's take a look to an example rxn file."
   ]
  },
  {
   "cell_type": "code",
   "execution_count": null,
   "metadata": {},
   "outputs": [],
   "source": [
    "!cat ../data/example.rxn"
   ]
  },
  {
   "cell_type": "markdown",
   "metadata": {},
   "source": [
    "We can find here information about three molecules: two of them are reactants and the last one is product. The first block of molecule decription is about atoms: symbols (S, N, C, O, ...), coordinates and auxiliary info. The second block is about chemical bonds. We are interested in the first four columns: bond_index, first_atom, second_atom, bond_order."
   ]
  },
  {
   "cell_type": "code",
   "execution_count": null,
   "metadata": {},
   "outputs": [],
   "source": []
  }
 ],
 "metadata": {
  "anaconda-cloud": {},
  "kernelspec": {
   "display_name": "Python [conda env:anaconda3]",
   "language": "python",
   "name": "conda-env-anaconda3-py"
  },
  "language_info": {
   "codemirror_mode": {
    "name": "ipython",
    "version": 3
   },
   "file_extension": ".py",
   "mimetype": "text/x-python",
   "name": "python",
   "nbconvert_exporter": "python",
   "pygments_lexer": "ipython3",
   "version": "3.5.4"
  }
 },
 "nbformat": 4,
 "nbformat_minor": 2
}
